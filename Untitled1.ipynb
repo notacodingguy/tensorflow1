{
  "nbformat": 4,
  "nbformat_minor": 0,
  "metadata": {
    "colab": {
      "name": "Untitled1.ipynb",
      "provenance": []
    },
    "kernelspec": {
      "name": "python3",
      "display_name": "Python 3"
    }
  },
  "cells": [
    {
      "cell_type": "code",
      "metadata": {
        "id": "EvCmCjhGliPQ",
        "colab_type": "code",
        "colab": {
          "base_uri": "https://localhost:8080/",
          "height": 35
        },
        "outputId": "2f260391-90f5-4915-f8f3-a73a6f9fbbba"
      },
      "source": [
        "import tensorflow as tf\n",
        "from tensorflow import keras\n",
        "tf.__version__"
      ],
      "execution_count": 1,
      "outputs": [
        {
          "output_type": "execute_result",
          "data": {
            "application/vnd.google.colaboratory.intrinsic": {
              "type": "string"
            },
            "text/plain": [
              "'2.2.0'"
            ]
          },
          "metadata": {
            "tags": []
          },
          "execution_count": 1
        }
      ]
    },
    {
      "cell_type": "code",
      "metadata": {
        "id": "z5c0tsHOlsuJ",
        "colab_type": "code",
        "colab": {
          "base_uri": "https://localhost:8080/",
          "height": 35
        },
        "outputId": "c483a8d5-0ba6-420e-a9e9-99d515592a9a"
      },
      "source": [
        "keras.__version__"
      ],
      "execution_count": 2,
      "outputs": [
        {
          "output_type": "execute_result",
          "data": {
            "application/vnd.google.colaboratory.intrinsic": {
              "type": "string"
            },
            "text/plain": [
              "'2.3.0-tf'"
            ]
          },
          "metadata": {
            "tags": []
          },
          "execution_count": 2
        }
      ]
    },
    {
      "cell_type": "code",
      "metadata": {
        "id": "u9qnDGahl_lC",
        "colab_type": "code",
        "colab": {}
      },
      "source": [
        "fashion_mnist = keras.datasets.fashion_mnist\n",
        "(X_train_full, y_train_full), (X_test, y_test) = fashion_mnist.load_data()"
      ],
      "execution_count": 7,
      "outputs": []
    },
    {
      "cell_type": "code",
      "metadata": {
        "id": "Zk1NmL1SmXiE",
        "colab_type": "code",
        "colab": {
          "base_uri": "https://localhost:8080/",
          "height": 52
        },
        "outputId": "9e31c302-44c3-4545-ca60-c49444fb7137"
      },
      "source": [
        "print(X_train_full.shape)\n",
        "print(y_train_full.shape)"
      ],
      "execution_count": 9,
      "outputs": [
        {
          "output_type": "stream",
          "text": [
            "(60000, 28, 28)\n",
            "(60000,)\n"
          ],
          "name": "stdout"
        }
      ]
    },
    {
      "cell_type": "code",
      "metadata": {
        "id": "8zwRw4ssmze8",
        "colab_type": "code",
        "colab": {}
      },
      "source": [
        "X_valid, X_train = X_train_full[:5000] / 255.0, X_train_full[5000:] / 255.0\n",
        "y_valid, y_train = y_train_full[:5000], y_train_full[5000:]"
      ],
      "execution_count": 10,
      "outputs": []
    },
    {
      "cell_type": "code",
      "metadata": {
        "id": "zr1y1YBfncLk",
        "colab_type": "code",
        "colab": {}
      },
      "source": [
        "class_names = [\"T-shirt/top\", \"trouser\", \"pullover\", \"Dress\", \"Coat\", \"Sandal\", \"shirt\", \"Sneaker\", \"Bag\", \"Ankle Boot\"]"
      ],
      "execution_count": 18,
      "outputs": []
    },
    {
      "cell_type": "code",
      "metadata": {
        "id": "W1J3M8EEoKhU",
        "colab_type": "code",
        "colab": {
          "base_uri": "https://localhost:8080/",
          "height": 34
        },
        "outputId": "5f4709ff-a1a3-4bf2-9317-874dab9d1296"
      },
      "source": [
        "print(class_names[y_train[5]])"
      ],
      "execution_count": 19,
      "outputs": [
        {
          "output_type": "stream",
          "text": [
            "Ankle Boot\n"
          ],
          "name": "stdout"
        }
      ]
    },
    {
      "cell_type": "code",
      "metadata": {
        "id": "6WCTHuiNosGF",
        "colab_type": "code",
        "colab": {}
      },
      "source": [
        "model = keras.models.Sequential([\n",
        "                                 keras.layers.Flatten(input_shape =[28,28]),\n",
        "                                 keras.layers.Dense(300, activation = \"relu\"),\n",
        "                                 keras.layers.Dense(100, activation = \"relu\"),\n",
        "                                 keras.layers.Dense(10, activation = \"softmax\")\n",
        "])"
      ],
      "execution_count": 24,
      "outputs": []
    },
    {
      "cell_type": "code",
      "metadata": {
        "id": "ej4vRCvPqizW",
        "colab_type": "code",
        "colab": {
          "base_uri": "https://localhost:8080/",
          "height": 298
        },
        "outputId": "eb034d3e-19a7-4b3e-a92d-b8d295de6fbc"
      },
      "source": [
        "model.summary()"
      ],
      "execution_count": 25,
      "outputs": [
        {
          "output_type": "stream",
          "text": [
            "Model: \"sequential\"\n",
            "_________________________________________________________________\n",
            "Layer (type)                 Output Shape              Param #   \n",
            "=================================================================\n",
            "flatten_4 (Flatten)          (None, 784)               0         \n",
            "_________________________________________________________________\n",
            "dense_12 (Dense)             (None, 300)               235500    \n",
            "_________________________________________________________________\n",
            "dense_13 (Dense)             (None, 100)               30100     \n",
            "_________________________________________________________________\n",
            "dense_14 (Dense)             (None, 10)                1010      \n",
            "=================================================================\n",
            "Total params: 266,610\n",
            "Trainable params: 266,610\n",
            "Non-trainable params: 0\n",
            "_________________________________________________________________\n"
          ],
          "name": "stdout"
        }
      ]
    },
    {
      "cell_type": "code",
      "metadata": {
        "id": "sKBmYgBJq9pt",
        "colab_type": "code",
        "colab": {
          "base_uri": "https://localhost:8080/",
          "height": 87
        },
        "outputId": "82ddff35-d4ae-45cf-d259-d4d13ef690c1"
      },
      "source": [
        "model.layers"
      ],
      "execution_count": 26,
      "outputs": [
        {
          "output_type": "execute_result",
          "data": {
            "text/plain": [
              "[<tensorflow.python.keras.layers.core.Flatten at 0x7f95f8325cc0>,\n",
              " <tensorflow.python.keras.layers.core.Dense at 0x7f95f8325128>,\n",
              " <tensorflow.python.keras.layers.core.Dense at 0x7f95f8325438>,\n",
              " <tensorflow.python.keras.layers.core.Dense at 0x7f963cc63400>]"
            ]
          },
          "metadata": {
            "tags": []
          },
          "execution_count": 26
        }
      ]
    },
    {
      "cell_type": "code",
      "metadata": {
        "id": "VCc-toO2rCZ7",
        "colab_type": "code",
        "colab": {
          "base_uri": "https://localhost:8080/",
          "height": 35
        },
        "outputId": "b54a8b99-416f-4ecb-b02d-be479f859487"
      },
      "source": [
        "hidden1 = model.layers[1]\n",
        "hidden1.name"
      ],
      "execution_count": 28,
      "outputs": [
        {
          "output_type": "execute_result",
          "data": {
            "application/vnd.google.colaboratory.intrinsic": {
              "type": "string"
            },
            "text/plain": [
              "'dense_12'"
            ]
          },
          "metadata": {
            "tags": []
          },
          "execution_count": 28
        }
      ]
    },
    {
      "cell_type": "code",
      "metadata": {
        "id": "-6BS89larpDm",
        "colab_type": "code",
        "colab": {
          "base_uri": "https://localhost:8080/",
          "height": 246
        },
        "outputId": "bd3de60b-11bb-470e-ccde-75071989c739"
      },
      "source": [
        "weights, biases = hidden1.get_weights()\n",
        "weights"
      ],
      "execution_count": 31,
      "outputs": [
        {
          "output_type": "execute_result",
          "data": {
            "text/plain": [
              "array([[ 0.01623143,  0.01021202,  0.06171095, ..., -0.04141642,\n",
              "        -0.01708138,  0.05062833],\n",
              "       [-0.0415944 , -0.00089305,  0.02828354, ..., -0.05408396,\n",
              "         0.0486872 ,  0.06846686],\n",
              "       [ 0.02595501,  0.01334485,  0.06907114, ..., -0.03177409,\n",
              "         0.05830388,  0.05528939],\n",
              "       ...,\n",
              "       [ 0.03516059,  0.04221563,  0.00443074, ..., -0.02186985,\n",
              "        -0.06832998, -0.05076206],\n",
              "       [ 0.07350515, -0.05072645, -0.02455467, ..., -0.06930768,\n",
              "        -0.0378879 ,  0.05502246],\n",
              "       [ 0.01028962, -0.00388633,  0.05123755, ..., -0.06307463,\n",
              "        -0.07210849,  0.04088817]], dtype=float32)"
            ]
          },
          "metadata": {
            "tags": []
          },
          "execution_count": 31
        }
      ]
    },
    {
      "cell_type": "code",
      "metadata": {
        "id": "8RLqXDhUr3mD",
        "colab_type": "code",
        "colab": {
          "base_uri": "https://localhost:8080/",
          "height": 34
        },
        "outputId": "4e586a24-8985-44c5-e1d4-193628ffe9e6"
      },
      "source": [
        "weights.shape"
      ],
      "execution_count": 32,
      "outputs": [
        {
          "output_type": "execute_result",
          "data": {
            "text/plain": [
              "(784, 300)"
            ]
          },
          "metadata": {
            "tags": []
          },
          "execution_count": 32
        }
      ]
    },
    {
      "cell_type": "code",
      "metadata": {
        "id": "ONlhR48qr7YU",
        "colab_type": "code",
        "colab": {}
      },
      "source": [
        "model.compile(loss = \"sparse_categorical_crossentropy\",\n",
        "              optimizer = \"sgd\",\n",
        "              metrics = [\"accuracy\"])"
      ],
      "execution_count": 33,
      "outputs": []
    },
    {
      "cell_type": "code",
      "metadata": {
        "id": "ctQ6feDktiB_",
        "colab_type": "code",
        "colab": {
          "base_uri": "https://localhost:8080/",
          "height": 1000
        },
        "outputId": "31d8e759-0510-4356-aa53-2e7d4005c394"
      },
      "source": [
        "history = model.fit(X_train, y_train, epochs = 38, validation_data= (X_valid, y_valid))"
      ],
      "execution_count": 34,
      "outputs": [
        {
          "output_type": "stream",
          "text": [
            "Epoch 1/38\n",
            "1719/1719 [==============================] - 4s 2ms/step - loss: 0.7136 - accuracy: 0.7631 - val_loss: 0.5016 - val_accuracy: 0.8322\n",
            "Epoch 2/38\n",
            "1719/1719 [==============================] - 4s 2ms/step - loss: 0.4851 - accuracy: 0.8297 - val_loss: 0.4338 - val_accuracy: 0.8562\n",
            "Epoch 3/38\n",
            "1719/1719 [==============================] - 4s 2ms/step - loss: 0.4401 - accuracy: 0.8455 - val_loss: 0.4193 - val_accuracy: 0.8554\n",
            "Epoch 4/38\n",
            "1719/1719 [==============================] - 4s 2ms/step - loss: 0.4136 - accuracy: 0.8550 - val_loss: 0.4302 - val_accuracy: 0.8514\n",
            "Epoch 5/38\n",
            "1719/1719 [==============================] - 4s 2ms/step - loss: 0.3923 - accuracy: 0.8620 - val_loss: 0.3885 - val_accuracy: 0.8638\n",
            "Epoch 6/38\n",
            "1719/1719 [==============================] - 4s 2ms/step - loss: 0.3771 - accuracy: 0.8674 - val_loss: 0.3664 - val_accuracy: 0.8728\n",
            "Epoch 7/38\n",
            "1719/1719 [==============================] - 4s 2ms/step - loss: 0.3638 - accuracy: 0.8715 - val_loss: 0.3530 - val_accuracy: 0.8780\n",
            "Epoch 8/38\n",
            "1719/1719 [==============================] - 4s 2ms/step - loss: 0.3529 - accuracy: 0.8748 - val_loss: 0.3723 - val_accuracy: 0.8692\n",
            "Epoch 9/38\n",
            "1719/1719 [==============================] - 4s 2ms/step - loss: 0.3417 - accuracy: 0.8786 - val_loss: 0.3452 - val_accuracy: 0.8792\n",
            "Epoch 10/38\n",
            "1719/1719 [==============================] - 4s 2ms/step - loss: 0.3333 - accuracy: 0.8814 - val_loss: 0.3476 - val_accuracy: 0.8786\n",
            "Epoch 11/38\n",
            "1719/1719 [==============================] - 4s 2ms/step - loss: 0.3246 - accuracy: 0.8835 - val_loss: 0.3273 - val_accuracy: 0.8846\n",
            "Epoch 12/38\n",
            "1719/1719 [==============================] - 4s 2ms/step - loss: 0.3160 - accuracy: 0.8877 - val_loss: 0.3219 - val_accuracy: 0.8896\n",
            "Epoch 13/38\n",
            "1719/1719 [==============================] - 4s 2ms/step - loss: 0.3091 - accuracy: 0.8897 - val_loss: 0.3411 - val_accuracy: 0.8784\n",
            "Epoch 14/38\n",
            "1719/1719 [==============================] - 4s 2ms/step - loss: 0.3022 - accuracy: 0.8912 - val_loss: 0.3260 - val_accuracy: 0.8868\n",
            "Epoch 15/38\n",
            "1719/1719 [==============================] - 4s 2ms/step - loss: 0.2954 - accuracy: 0.8940 - val_loss: 0.3221 - val_accuracy: 0.8846\n",
            "Epoch 16/38\n",
            "1719/1719 [==============================] - 4s 2ms/step - loss: 0.2902 - accuracy: 0.8947 - val_loss: 0.3366 - val_accuracy: 0.8784\n",
            "Epoch 17/38\n",
            "1719/1719 [==============================] - 4s 2ms/step - loss: 0.2839 - accuracy: 0.8985 - val_loss: 0.3138 - val_accuracy: 0.8860\n",
            "Epoch 18/38\n",
            "1719/1719 [==============================] - 4s 2ms/step - loss: 0.2789 - accuracy: 0.9000 - val_loss: 0.3163 - val_accuracy: 0.8852\n",
            "Epoch 19/38\n",
            "1719/1719 [==============================] - 4s 2ms/step - loss: 0.2737 - accuracy: 0.9015 - val_loss: 0.3176 - val_accuracy: 0.8860\n",
            "Epoch 20/38\n",
            "1719/1719 [==============================] - 4s 2ms/step - loss: 0.2686 - accuracy: 0.9034 - val_loss: 0.3049 - val_accuracy: 0.8936\n",
            "Epoch 21/38\n",
            "1719/1719 [==============================] - 4s 2ms/step - loss: 0.2624 - accuracy: 0.9057 - val_loss: 0.3125 - val_accuracy: 0.8862\n",
            "Epoch 22/38\n",
            "1719/1719 [==============================] - 4s 2ms/step - loss: 0.2580 - accuracy: 0.9073 - val_loss: 0.3090 - val_accuracy: 0.8898\n",
            "Epoch 23/38\n",
            "1719/1719 [==============================] - 4s 2ms/step - loss: 0.2541 - accuracy: 0.9083 - val_loss: 0.2991 - val_accuracy: 0.8914\n",
            "Epoch 24/38\n",
            "1719/1719 [==============================] - 4s 2ms/step - loss: 0.2502 - accuracy: 0.9096 - val_loss: 0.3110 - val_accuracy: 0.8880\n",
            "Epoch 25/38\n",
            "1719/1719 [==============================] - 4s 2ms/step - loss: 0.2458 - accuracy: 0.9107 - val_loss: 0.3019 - val_accuracy: 0.8912\n",
            "Epoch 26/38\n",
            "1719/1719 [==============================] - 4s 2ms/step - loss: 0.2406 - accuracy: 0.9128 - val_loss: 0.2958 - val_accuracy: 0.8968\n",
            "Epoch 27/38\n",
            "1719/1719 [==============================] - 4s 2ms/step - loss: 0.2368 - accuracy: 0.9145 - val_loss: 0.3114 - val_accuracy: 0.8914\n",
            "Epoch 28/38\n",
            "1719/1719 [==============================] - 4s 2ms/step - loss: 0.2332 - accuracy: 0.9161 - val_loss: 0.3065 - val_accuracy: 0.8922\n",
            "Epoch 29/38\n",
            "1719/1719 [==============================] - 4s 2ms/step - loss: 0.2280 - accuracy: 0.9178 - val_loss: 0.2991 - val_accuracy: 0.8938\n",
            "Epoch 30/38\n",
            "1719/1719 [==============================] - 4s 2ms/step - loss: 0.2248 - accuracy: 0.9199 - val_loss: 0.2914 - val_accuracy: 0.8938\n",
            "Epoch 31/38\n",
            "1719/1719 [==============================] - 4s 2ms/step - loss: 0.2215 - accuracy: 0.9206 - val_loss: 0.3065 - val_accuracy: 0.8898\n",
            "Epoch 32/38\n",
            "1719/1719 [==============================] - 4s 2ms/step - loss: 0.2182 - accuracy: 0.9216 - val_loss: 0.2975 - val_accuracy: 0.8946\n",
            "Epoch 33/38\n",
            "1719/1719 [==============================] - 4s 2ms/step - loss: 0.2144 - accuracy: 0.9224 - val_loss: 0.3097 - val_accuracy: 0.8920\n",
            "Epoch 34/38\n",
            "1719/1719 [==============================] - 4s 2ms/step - loss: 0.2109 - accuracy: 0.9243 - val_loss: 0.2925 - val_accuracy: 0.9018\n",
            "Epoch 35/38\n",
            "1719/1719 [==============================] - 4s 2ms/step - loss: 0.2079 - accuracy: 0.9261 - val_loss: 0.2913 - val_accuracy: 0.8918\n",
            "Epoch 36/38\n",
            "1719/1719 [==============================] - 4s 2ms/step - loss: 0.2043 - accuracy: 0.9262 - val_loss: 0.2914 - val_accuracy: 0.8980\n",
            "Epoch 37/38\n",
            "1719/1719 [==============================] - 4s 2ms/step - loss: 0.2015 - accuracy: 0.9272 - val_loss: 0.3079 - val_accuracy: 0.8932\n",
            "Epoch 38/38\n",
            "1719/1719 [==============================] - 4s 2ms/step - loss: 0.1973 - accuracy: 0.9296 - val_loss: 0.2912 - val_accuracy: 0.8926\n"
          ],
          "name": "stdout"
        }
      ]
    },
    {
      "cell_type": "code",
      "metadata": {
        "id": "_dvtnoqCJk9E",
        "colab_type": "code",
        "colab": {}
      },
      "source": [
        "import pandas as pd\n",
        "import matplotlib.pyplot as plt "
      ],
      "execution_count": 35,
      "outputs": []
    },
    {
      "cell_type": "code",
      "metadata": {
        "id": "4zDyWysEMjcK",
        "colab_type": "code",
        "colab": {
          "base_uri": "https://localhost:8080/",
          "height": 324
        },
        "outputId": "70d564df-b9ba-4682-e2b8-7b046e89d9d0"
      },
      "source": [
        "pd.DataFrame(history.history).plot(figsize=(8,5))\n",
        "plt.grid(True)\n",
        "plt.gca().set_ylim(0,1)\n",
        "plt.show()"
      ],
      "execution_count": 37,
      "outputs": [
        {
          "output_type": "display_data",
          "data": {
            "image/png": "[encoded data removed]",
            "text/plain": [
              "<Figure size 576x360 with 1 Axes>"
            ]
          },
          "metadata": {
            "tags": [],
            "needs_background": "light"
          }
        }
      ]
    },
    {
      "cell_type": "code",
      "metadata": {
        "id": "0P_2Qjk3NfZo",
        "colab_type": "code",
        "colab": {
          "base_uri": "https://localhost:8080/",
          "height": 52
        },
        "outputId": "d4d43635-adf5-41b5-a970-2710232207ee"
      },
      "source": [
        "model.evaluate(X_test, y_test)"
      ],
      "execution_count": 38,
      "outputs": [
        {
          "output_type": "stream",
          "text": [
            "313/313 [==============================] - 0s 1ms/step - loss: 72.1173 - accuracy: 0.8390\n"
          ],
          "name": "stdout"
        },
        {
          "output_type": "execute_result",
          "data": {
            "text/plain": [
              "[72.11731719970703, 0.8389999866485596]"
            ]
          },
          "metadata": {
            "tags": []
          },
          "execution_count": 38
        }
      ]
    },
    {
      "cell_type": "code",
      "metadata": {
        "id": "3ibt_rezN9SL",
        "colab_type": "code",
        "colab": {
          "base_uri": "https://localhost:8080/",
          "height": 70
        },
        "outputId": "930555a1-2b9b-4b04-ec5a-0042277d0b9d"
      },
      "source": [
        "X_new = X_test[:3]\n",
        "y_proba = model.predict(X_new)\n",
        "y_proba.round(2)"
      ],
      "execution_count": 39,
      "outputs": [
        {
          "output_type": "execute_result",
          "data": {
            "text/plain": [
              "array([[0., 0., 0., 0., 0., 0., 0., 0., 0., 1.],\n",
              "       [0., 0., 1., 0., 0., 0., 0., 0., 0., 0.],\n",
              "       [0., 1., 0., 0., 0., 0., 0., 0., 0., 0.]], dtype=float32)"
            ]
          },
          "metadata": {
            "tags": []
          },
          "execution_count": 39
        }
      ]
    },
    {
      "cell_type": "markdown",
      "metadata": {
        "id": "EvJvVZMlOQUr",
        "colab_type": "text"
      },
      "source": [
        ""
      ]
    },
    {
      "cell_type": "code",
      "metadata": {
        "id": "lUX73muGORR-",
        "colab_type": "code",
        "colab": {
          "base_uri": "https://localhost:8080/",
          "height": 34
        },
        "outputId": "d23329e3-c3c1-4c69-dbea-2910d5bafe4a"
      },
      "source": [
        "y_pred = model.predict_classes(X_new)\n",
        "print(y_pred)"
      ],
      "execution_count": 41,
      "outputs": [
        {
          "output_type": "stream",
          "text": [
            "[9 2 1]\n"
          ],
          "name": "stdout"
        }
      ]
    },
    {
      "cell_type": "code",
      "metadata": {
        "id": "nOLUR0zNOjYm",
        "colab_type": "code",
        "colab": {
          "base_uri": "https://localhost:8080/",
          "height": 34
        },
        "outputId": "3454ab98-55da-48b7-b9ea-0bf8291605a9"
      },
      "source": [
        "import numpy as np\n",
        "\n",
        "np.array(class_names)[y_pred]"
      ],
      "execution_count": 43,
      "outputs": [
        {
          "output_type": "execute_result",
          "data": {
            "text/plain": [
              "array(['Ankle Boot', 'pullover', 'trouser'], dtype='<U11')"
            ]
          },
          "metadata": {
            "tags": []
          },
          "execution_count": 43
        }
      ]
    },
    {
      "cell_type": "code",
      "metadata": {
        "id": "wxmiH19YO4lv",
        "colab_type": "code",
        "colab": {}
      },
      "source": [
        ""
      ],
      "execution_count": null,
      "outputs": []
    }
  ]
}